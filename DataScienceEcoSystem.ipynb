{
  "metadata": {
    "language_info": {
      "name": ""
    },
    "kernelspec": {
      "name": "python",
      "display_name": "Python (Pyodide)",
      "language": "python"
    }
  },
  "nbformat_minor": 4,
  "nbformat": 4,
  "cells": [
    {
      "cell_type": "markdown",
      "source": "# Notebook Title \nAbout Data Science ",
      "metadata": {}
    },
    {
      "cell_type": "markdown",
      "source": "# Introuduction \nWelcome to my Jupyter Notebook!\n\nIn this notebook, I will be exploring and analyzing Data Science. I'll be using various data science techniques to gain insights and present my findings, And It's My first Time To Use This Type of Notebooks , So Don't Laugh on me.\n\nFeel free to follow along and explore the code and analysis presented in this notebook. If you have any questions or suggestions, please don't hesitate to reach out.\n\nLet's get started!",
      "metadata": {}
    },
    {
      "cell_type": "markdown",
      "source": "# Data Science Languages\n\nHere are some popular programming languages used in data science:\n\n- Python\n- R\n- Julia\n- SQL\n- MATLAB\n- Scala\n- Java\n- C/C++",
      "metadata": {}
    },
    {
      "cell_type": "markdown",
      "source": "# Data Science Libraries\n\nHere are some popular libraries used in data science:\n\n- NumPy\n- Pandas\n- Matplotlib\n- Seaborn\n- Scikit-learn\n- TensorFlow\n- Keras\n- PyTorch\n- Statsmodels\n- Plotly\n",
      "metadata": {}
    },
    {
      "cell_type": "markdown",
      "source": "# Data Science Tools\n\n| Category        | Tools                   |\n|-----------------|-------------------------|\n| Programming     | Python, R, Julia, SQL   |\n| Data Manipulation | Pandas, dplyr, SQL      |\n| Data Visualization | Matplotlib, ggplot2, Plotly |\n| Machine Learning | Scikit-learn, TensorFlow, PyTorch |\n| Deep Learning   | Keras, TensorFlow, PyTorch |\n| Big Data        | Apache Spark, Hadoop, SQL |\n| Statistical Analysis | Statsmodels, R |\n| Notebooks       | Jupyter, RStudio |\n",
      "metadata": {}
    },
    {
      "cell_type": "markdown",
      "source": "## Arithmetic Expression Examples\n\nArithmetic expressions involve mathematical operations like addition, subtraction, multiplication, and division. They are fundamental in numerical calculations. Here are some examples of arithmetic expressions:\n\n- Addition: 5 + 3\n- Subtraction: 10 - 2\n- Multiplication: 4 * 6\n- Division: 20 / 5\n- Exponentiation: 2 ** 3 (2 raised to the power of 3)\n- Modulo: 15 % 4 (remainder of 15 divided by 4)\n\nArithmetic expressions can also include variables, parentheses, and more complex calculations.\n\nLet's explore some arithmetic expressions and their results in the following code cells.\n\n",
      "metadata": {}
    },
    {
      "cell_type": "code",
      "source": "\nnum1 = 3 \nnum2 = 4\nproduct = num1 * num2\nprint(\"The product of\", num1, \"and\", num2, \"is\", product)\n\nnum3 = 5\nsum = num3 + product\nprint(\"The sum of(3*4)+5\", \"is\", sum) \n\n # Ican't Get The Output .. Idk How to Run it!\n",
      "metadata": {
        "tags": [],
        "trusted": true
      },
      "execution_count": null,
      "outputs": []
    },
    {
      "cell_type": "code",
      "source": "minutes = 200\nhours = minutes / 60\nprint(minutes, \"minutes is equal to\", hours, \"hours\")\n",
      "metadata": {
        "trusted": true
      },
      "execution_count": null,
      "outputs": []
    },
    {
      "cell_type": "markdown",
      "source": "# Objectives\n\n- List Data Science Languages\n- List Data Science Liberaries\n- List Data Science Tools\n- Do Some Coding\n- Gain familiarity with Jupyter Notebook features and shortcuts\n",
      "metadata": {}
    },
    {
      "cell_type": "markdown",
      "source": "# Author\n\n- Mohamed Abass Abdelhady\n",
      "metadata": {}
    },
    {
      "cell_type": "code",
      "source": "",
      "metadata": {},
      "execution_count": null,
      "outputs": []
    }
  ]
}